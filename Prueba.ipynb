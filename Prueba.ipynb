{
 "cells": [
  {
   "cell_type": "code",
   "execution_count": null,
   "metadata": {},
   "outputs": [],
   "source": [
    "limite = int(input(\"Número limite: \"))\n",
    "for i in range(limite + 1):\n",
    "    if i != 0:\n",
    "        if i % 2 == 0:\n",
    "            print(i)"
   ]
  },
  {
   "cell_type": "code",
   "execution_count": 1,
   "metadata": {},
   "outputs": [
    {
     "name": "stdout",
     "output_type": "stream",
     "text": [
      "Player 1 won!\n",
      "Draw!\n"
     ]
    }
   ],
   "source": [
    "def ppt(p1, p2):\n",
    "    beats = {'rock': 'scissors', 'scissors': 'paper', 'paper': 'rock'}\n",
    "    if beats[p1] == p2:\n",
    "        print(\"Player 1 won!\")\n",
    "    if beats[p2] == p1:\n",
    "        print(\"Player 2 won!\")\n",
    "    print(\"Draw!\")\n",
    "p1 = str(input(\"Jugador 1: \"))\n",
    "p2 = str(input(\"Jugador 2: \"))\n",
    "ppt(p1,p2)"
   ]
  }
 ],
 "metadata": {
  "kernelspec": {
   "display_name": "Python 3.10.6 64-bit",
   "language": "python",
   "name": "python3"
  },
  "language_info": {
   "codemirror_mode": {
    "name": "ipython",
    "version": 3
   },
   "file_extension": ".py",
   "mimetype": "text/x-python",
   "name": "python",
   "nbconvert_exporter": "python",
   "pygments_lexer": "ipython3",
   "version": "3.10.6"
  },
  "orig_nbformat": 4,
  "vscode": {
   "interpreter": {
    "hash": "aee8b7b246df8f9039afb4144a1f6fd8d2ca17a180786b69acc140d282b71a49"
   }
  }
 },
 "nbformat": 4,
 "nbformat_minor": 2
}
