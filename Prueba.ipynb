{
 "cells": [
  {
   "cell_type": "code",
   "execution_count": 14,
   "metadata": {},
   "outputs": [
    {
     "name": "stdout",
     "output_type": "stream",
     "text": [
      "2 \t\n",
      "4 \t\n",
      "6 \t\n",
      "8 \t\n",
      "10 \t\n",
      "12 \t\n",
      "14 \t\n",
      "16 \t\n",
      "18 \t\n",
      "20 \t\n",
      "22 \t\n",
      "24 \t\n",
      "26 \t\n",
      "28 \t\n",
      "30 \t\n"
     ]
    }
   ],
   "source": [
    "limite = int(input(\"Número limite: \"))\n",
    "for i in range(limite + 1):\n",
    "    if i != 0:\n",
    "        if i % 2 == 0:\n",
    "            print(i, \"\\t\")"
   ]
  }
 ],
 "metadata": {
  "kernelspec": {
   "display_name": "Python 3.9.12 ('base')",
   "language": "python",
   "name": "python3"
  },
  "language_info": {
   "codemirror_mode": {
    "name": "ipython",
    "version": 3
   },
   "file_extension": ".py",
   "mimetype": "text/x-python",
   "name": "python",
   "nbconvert_exporter": "python",
   "pygments_lexer": "ipython3",
   "version": "3.9.12"
  },
  "orig_nbformat": 4,
  "vscode": {
   "interpreter": {
    "hash": "828fab7615d4dd5e1763fd37720e620be0804a1918963ea4ba241d458bb5b5bf"
   }
  }
 },
 "nbformat": 4,
 "nbformat_minor": 2
}
